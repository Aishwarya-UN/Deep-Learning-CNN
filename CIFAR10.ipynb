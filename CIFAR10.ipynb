{
 "cells": [
  {
   "cell_type": "code",
   "execution_count": 1,
   "metadata": {},
   "outputs": [],
   "source": [
    "import numpy as np\n",
    "import pandas as pd\n",
    "import matplotlib.pyplot as plt"
   ]
  },
  {
   "cell_type": "code",
   "execution_count": 2,
   "metadata": {},
   "outputs": [
    {
     "name": "stdout",
     "output_type": "stream",
     "text": [
      "Requirement already satisfied: keras in c:\\users\\ybsavitharaj\\onedrive\\new folder\\lib\\site-packages (2.4.3)\n",
      "Requirement already satisfied: numpy>=1.9.1 in c:\\users\\ybsavitharaj\\onedrive\\new folder\\lib\\site-packages (from keras) (1.18.1)\n",
      "Requirement already satisfied: pyyaml in c:\\users\\ybsavitharaj\\onedrive\\new folder\\lib\\site-packages (from keras) (5.3)\n",
      "Requirement already satisfied: scipy>=0.14 in c:\\users\\ybsavitharaj\\onedrive\\new folder\\lib\\site-packages (from keras) (1.4.1)\n",
      "Requirement already satisfied: h5py in c:\\users\\ybsavitharaj\\onedrive\\new folder\\lib\\site-packages (from keras) (2.10.0)\n",
      "Requirement already satisfied: six in c:\\users\\ybsavitharaj\\onedrive\\new folder\\lib\\site-packages (from h5py->keras) (1.14.0)\n"
     ]
    }
   ],
   "source": [
    "!pip install keras"
   ]
  },
  {
   "cell_type": "code",
   "execution_count": 3,
   "metadata": {},
   "outputs": [
    {
     "name": "stdout",
     "output_type": "stream",
     "text": [
      "Requirement already satisfied: tensorflow in c:\\users\\ybsavitharaj\\onedrive\\new folder\\lib\\site-packages (1.14.0)\n",
      "Requirement already satisfied: gast>=0.2.0 in c:\\users\\ybsavitharaj\\onedrive\\new folder\\lib\\site-packages (from tensorflow) (0.4.0)\n",
      "Requirement already satisfied: keras-preprocessing>=1.0.5 in c:\\users\\ybsavitharaj\\onedrive\\new folder\\lib\\site-packages (from tensorflow) (1.1.0)\n",
      "Requirement already satisfied: six>=1.10.0 in c:\\users\\ybsavitharaj\\onedrive\\new folder\\lib\\site-packages (from tensorflow) (1.14.0)\n",
      "Requirement already satisfied: wrapt>=1.11.1 in c:\\users\\ybsavitharaj\\onedrive\\new folder\\lib\\site-packages (from tensorflow) (1.11.2)\n",
      "Requirement already satisfied: absl-py>=0.7.0 in c:\\users\\ybsavitharaj\\onedrive\\new folder\\lib\\site-packages (from tensorflow) (0.10.0)\n",
      "Requirement already satisfied: tensorboard<1.15.0,>=1.14.0 in c:\\users\\ybsavitharaj\\onedrive\\new folder\\lib\\site-packages (from tensorflow) (1.14.0)\n",
      "Requirement already satisfied: numpy<2.0,>=1.14.5 in c:\\users\\ybsavitharaj\\onedrive\\new folder\\lib\\site-packages (from tensorflow) (1.18.1)\n",
      "Requirement already satisfied: grpcio>=1.8.6 in c:\\users\\ybsavitharaj\\onedrive\\new folder\\lib\\site-packages (from tensorflow) (1.23.0)\n",
      "Requirement already satisfied: keras-applications>=1.0.6 in c:\\users\\ybsavitharaj\\onedrive\\new folder\\lib\\site-packages (from tensorflow) (1.0.8)\n",
      "Requirement already satisfied: astor>=0.6.0 in c:\\users\\ybsavitharaj\\onedrive\\new folder\\lib\\site-packages (from tensorflow) (0.8.1)\n",
      "Requirement already satisfied: wheel>=0.26 in c:\\users\\ybsavitharaj\\onedrive\\new folder\\lib\\site-packages (from tensorflow) (0.34.2)\n",
      "Requirement already satisfied: termcolor>=1.1.0 in c:\\users\\ybsavitharaj\\onedrive\\new folder\\lib\\site-packages (from tensorflow) (1.1.0)\n",
      "Requirement already satisfied: protobuf>=3.6.1 in c:\\users\\ybsavitharaj\\onedrive\\new folder\\lib\\site-packages (from tensorflow) (3.13.0)\n",
      "Requirement already satisfied: google-pasta>=0.1.6 in c:\\users\\ybsavitharaj\\onedrive\\new folder\\lib\\site-packages (from tensorflow) (0.2.0)\n",
      "Requirement already satisfied: tensorflow-estimator<1.15.0rc0,>=1.14.0rc0 in c:\\users\\ybsavitharaj\\onedrive\\new folder\\lib\\site-packages (from tensorflow) (1.14.0)\n",
      "Requirement already satisfied: markdown>=2.6.8 in c:\\users\\ybsavitharaj\\onedrive\\new folder\\lib\\site-packages (from tensorboard<1.15.0,>=1.14.0->tensorflow) (3.3.3)\n",
      "Requirement already satisfied: setuptools>=41.0.0 in c:\\users\\ybsavitharaj\\onedrive\\new folder\\lib\\site-packages (from tensorboard<1.15.0,>=1.14.0->tensorflow) (45.2.0.post20200210)\n",
      "Requirement already satisfied: werkzeug>=0.11.15 in c:\\users\\ybsavitharaj\\onedrive\\new folder\\lib\\site-packages (from tensorboard<1.15.0,>=1.14.0->tensorflow) (1.0.0)\n",
      "Requirement already satisfied: h5py in c:\\users\\ybsavitharaj\\onedrive\\new folder\\lib\\site-packages (from keras-applications>=1.0.6->tensorflow) (2.10.0)\n",
      "Requirement already satisfied: importlib-metadata; python_version < \"3.8\" in c:\\users\\ybsavitharaj\\onedrive\\new folder\\lib\\site-packages (from markdown>=2.6.8->tensorboard<1.15.0,>=1.14.0->tensorflow) (2.0.0)\n",
      "Requirement already satisfied: zipp>=0.5 in c:\\users\\ybsavitharaj\\onedrive\\new folder\\lib\\site-packages (from importlib-metadata; python_version < \"3.8\"->markdown>=2.6.8->tensorboard<1.15.0,>=1.14.0->tensorflow) (2.2.0)\n"
     ]
    }
   ],
   "source": [
    "!pip install tensorflow"
   ]
  },
  {
   "cell_type": "code",
   "execution_count": 4,
   "metadata": {},
   "outputs": [
    {
     "name": "stdout",
     "output_type": "stream",
     "text": [
      "Requirement already satisfied: seaborn in c:\\users\\ybsavitharaj\\onedrive\\new folder\\lib\\site-packages (0.10.0)\n",
      "Requirement already satisfied: scipy>=1.0.1 in c:\\users\\ybsavitharaj\\onedrive\\new folder\\lib\\site-packages (from seaborn) (1.4.1)\n",
      "Requirement already satisfied: pandas>=0.22.0 in c:\\users\\ybsavitharaj\\onedrive\\new folder\\lib\\site-packages (from seaborn) (1.0.1)\n",
      "Requirement already satisfied: numpy>=1.13.3 in c:\\users\\ybsavitharaj\\onedrive\\new folder\\lib\\site-packages (from seaborn) (1.18.1)\n",
      "Requirement already satisfied: matplotlib>=2.1.2 in c:\\users\\ybsavitharaj\\onedrive\\new folder\\lib\\site-packages (from seaborn) (3.1.3)\n",
      "Requirement already satisfied: python-dateutil>=2.6.1 in c:\\users\\ybsavitharaj\\onedrive\\new folder\\lib\\site-packages (from pandas>=0.22.0->seaborn) (2.8.1)\n",
      "Requirement already satisfied: pytz>=2017.2 in c:\\users\\ybsavitharaj\\onedrive\\new folder\\lib\\site-packages (from pandas>=0.22.0->seaborn) (2019.3)\n",
      "Requirement already satisfied: cycler>=0.10 in c:\\users\\ybsavitharaj\\onedrive\\new folder\\lib\\site-packages (from matplotlib>=2.1.2->seaborn) (0.10.0)\n",
      "Requirement already satisfied: pyparsing!=2.0.4,!=2.1.2,!=2.1.6,>=2.0.1 in c:\\users\\ybsavitharaj\\onedrive\\new folder\\lib\\site-packages (from matplotlib>=2.1.2->seaborn) (2.4.6)\n",
      "Requirement already satisfied: kiwisolver>=1.0.1 in c:\\users\\ybsavitharaj\\onedrive\\new folder\\lib\\site-packages (from matplotlib>=2.1.2->seaborn) (1.1.0)\n",
      "Requirement already satisfied: six>=1.5 in c:\\users\\ybsavitharaj\\onedrive\\new folder\\lib\\site-packages (from python-dateutil>=2.6.1->pandas>=0.22.0->seaborn) (1.14.0)\n",
      "Requirement already satisfied: setuptools in c:\\users\\ybsavitharaj\\onedrive\\new folder\\lib\\site-packages (from kiwisolver>=1.0.1->matplotlib>=2.1.2->seaborn) (45.2.0.post20200210)\n"
     ]
    }
   ],
   "source": [
    "!pip install seaborn"
   ]
  },
  {
   "cell_type": "code",
   "execution_count": 6,
   "metadata": {},
   "outputs": [],
   "source": [
    "from tensorflow.keras.datasets import cifar10"
   ]
  },
  {
   "cell_type": "code",
   "execution_count": 7,
   "metadata": {},
   "outputs": [
    {
     "name": "stdout",
     "output_type": "stream",
     "text": [
      "Downloading data from https://www.cs.toronto.edu/~kriz/cifar-10-python.tar.gz\n",
      "170500096/170498071 [==============================] - 53s 0us/step\n"
     ]
    }
   ],
   "source": [
    "(x_train,y_train),(x_test,y_test)=cifar10.load_data()"
   ]
  },
  {
   "cell_type": "code",
   "execution_count": 8,
   "metadata": {},
   "outputs": [
    {
     "data": {
      "text/plain": [
       "(50000, 32, 32, 3)"
      ]
     },
     "execution_count": 8,
     "metadata": {},
     "output_type": "execute_result"
    }
   ],
   "source": [
    "x_train.shape"
   ]
  },
  {
   "cell_type": "code",
   "execution_count": 9,
   "metadata": {},
   "outputs": [],
   "source": [
    "single_image=x_train[0]"
   ]
  },
  {
   "cell_type": "code",
   "execution_count": 10,
   "metadata": {},
   "outputs": [
    {
     "data": {
      "text/plain": [
       "<matplotlib.image.AxesImage at 0x23e41995188>"
      ]
     },
     "execution_count": 10,
     "metadata": {},
     "output_type": "execute_result"
    },
    {
     "data": {
      "image/png": "[encoded data removed]",
      "text/plain": [
       "<Figure size 432x288 with 1 Axes>"
      ]
     },
     "metadata": {
      "needs_background": "light"
     },
     "output_type": "display_data"
    }
   ],
   "source": [
    "plt.imshow(single_image) #to display 2D image"
   ]
  },
  {
   "cell_type": "code",
   "execution_count": 11,
   "metadata": {},
   "outputs": [
    {
     "data": {
      "text/plain": [
       "array([[6],\n",
       "       [9],\n",
       "       [9],\n",
       "       ...,\n",
       "       [9],\n",
       "       [1],\n",
       "       [1]], dtype=uint8)"
      ]
     },
     "execution_count": 11,
     "metadata": {},
     "output_type": "execute_result"
    }
   ],
   "source": [
    "y_train #initaially labels will be continous values and the model tries to predict values such as 5.5 so we have to convert it to categorical"
   ]
  },
  {
   "cell_type": "code",
   "execution_count": 12,
   "metadata": {},
   "outputs": [],
   "source": [
    "from tensorflow.keras.utils import to_categorical"
   ]
  },
  {
   "cell_type": "code",
   "execution_count": 13,
   "metadata": {},
   "outputs": [],
   "source": [
    "y_cat_test=to_categorical(y_test,10) #Converting to binary class matrix"
   ]
  },
  {
   "cell_type": "code",
   "execution_count": 14,
   "metadata": {},
   "outputs": [],
   "source": [
    "y_cat_train=to_categorical(y_train,10)"
   ]
  },
  {
   "cell_type": "code",
   "execution_count": 15,
   "metadata": {},
   "outputs": [
    {
     "data": {
      "text/plain": [
       "255"
      ]
     },
     "execution_count": 15,
     "metadata": {},
     "output_type": "execute_result"
    }
   ],
   "source": [
    "single_image.max()"
   ]
  },
  {
   "cell_type": "code",
   "execution_count": 16,
   "metadata": {},
   "outputs": [
    {
     "data": {
      "text/plain": [
       "0"
      ]
     },
     "execution_count": 16,
     "metadata": {},
     "output_type": "execute_result"
    }
   ],
   "source": [
    "single_image.min()"
   ]
  },
  {
   "cell_type": "code",
   "execution_count": 17,
   "metadata": {},
   "outputs": [],
   "source": [
    "#Scaling the image between 0 t0 1\n",
    "x_train=x_train/255"
   ]
  },
  {
   "cell_type": "code",
   "execution_count": 18,
   "metadata": {},
   "outputs": [],
   "source": [
    "x_test=x_test/255"
   ]
  },
  {
   "cell_type": "code",
   "execution_count": 19,
   "metadata": {},
   "outputs": [],
   "source": [
    "scaled_image=x_train[0]"
   ]
  },
  {
   "cell_type": "code",
   "execution_count": 20,
   "metadata": {},
   "outputs": [
    {
     "data": {
      "text/plain": [
       "<matplotlib.image.AxesImage at 0x23e41a43188>"
      ]
     },
     "execution_count": 20,
     "metadata": {},
     "output_type": "execute_result"
    },
    {
     "data": {
      "image/png": "[encoded data removed]",
      "text/plain": [
       "<Figure size 432x288 with 1 Axes>"
      ]
     },
     "metadata": {
      "needs_background": "light"
     },
     "output_type": "display_data"
    }
   ],
   "source": [
    "plt.imshow(scaled_image)"
   ]
  },
  {
   "cell_type": "code",
   "execution_count": 25,
   "metadata": {},
   "outputs": [],
   "source": [
    "from tensorflow.keras.models import Sequential\n",
    "from tensorflow.keras.layers import Dense,MaxPool2D, Conv2D,Flatten"
   ]
  },
  {
   "cell_type": "code",
   "execution_count": 26,
   "metadata": {},
   "outputs": [],
   "source": [
    "model=Sequential()"
   ]
  },
  {
   "cell_type": "code",
   "execution_count": 27,
   "metadata": {},
   "outputs": [],
   "source": [
    "#Adding layers\n",
    "#Adding conv layer\n",
    "model.add(Conv2D(filters=32,kernel_size=(4,4),input_shape=(32,32,3),activation='relu',))\n",
    "#Adding pooling layer\n",
    "model.add(MaxPool2D(pool_size=(2,2)))\n",
    "\n",
    "model.add(Conv2D(filters=32,kernel_size=(4,4),input_shape=(32,32,3),activation='relu',))\n",
    "model.add(MaxPool2D(pool_size=(2,2)))\n",
    "\n",
    "model.add(Flatten())\n",
    "\n",
    "model.add(Dense(256,activation='relu'))\n",
    "\n",
    "model.add(Dense(10,activation='softmax'))#output layer\n",
    "model.compile(loss='categorical_crossentropy',optimizer='adam',metrics=['accuracy'])"
   ]
  },
  {
   "cell_type": "code",
   "execution_count": 28,
   "metadata": {},
   "outputs": [],
   "source": [
    "from tensorflow.keras.callbacks import EarlyStopping #To overcome overfitting"
   ]
  },
  {
   "cell_type": "code",
   "execution_count": 29,
   "metadata": {},
   "outputs": [],
   "source": [
    "early_stop=EarlyStopping(monitor='val_loss',patience=2)"
   ]
  },
  {
   "cell_type": "code",
   "execution_count": 30,
   "metadata": {},
   "outputs": [
    {
     "name": "stdout",
     "output_type": "stream",
     "text": [
      "Train on 50000 samples, validate on 10000 samples\n",
      "Epoch 1/15\n",
      "50000/50000 [==============================] - 690s 14ms/sample - loss: 1.4957 - acc: 0.4596 - val_loss: 1.3059 - val_acc: 0.5334\n",
      "Epoch 2/15\n",
      "50000/50000 [==============================] - 314s 6ms/sample - loss: 1.1739 - acc: 0.5839 - val_loss: 1.1119 - val_acc: 0.6122\n",
      "Epoch 3/15\n",
      "50000/50000 [==============================] - 104s 2ms/sample - loss: 1.0348 - acc: 0.6370 - val_loss: 1.0338 - val_acc: 0.6337\n",
      "Epoch 4/15\n",
      "50000/50000 [==============================] - 97s 2ms/sample - loss: 0.9214 - acc: 0.6794 - val_loss: 1.0113 - val_acc: 0.6476\n",
      "Epoch 5/15\n",
      "50000/50000 [==============================] - 98s 2ms/sample - loss: 0.8291 - acc: 0.7116 - val_loss: 0.9468 - val_acc: 0.6699\n",
      "Epoch 6/15\n",
      "50000/50000 [==============================] - 93s 2ms/sample - loss: 0.7494 - acc: 0.7390 - val_loss: 1.0089 - val_acc: 0.6607\n",
      "Epoch 7/15\n",
      "50000/50000 [==============================] - 93s 2ms/sample - loss: 0.6796 - acc: 0.7612 - val_loss: 0.9496 - val_acc: 0.6835\n"
     ]
    },
    {
     "data": {
      "text/plain": [
       "<tensorflow.python.keras.callbacks.History at 0x23e42533988>"
      ]
     },
     "execution_count": 30,
     "metadata": {},
     "output_type": "execute_result"
    }
   ],
   "source": [
    "model.fit(x_train,y_cat_train,epochs=15,validation_data=(x_test,y_cat_test),callbacks=[early_stop])"
   ]
  },
  {
   "cell_type": "code",
   "execution_count": 31,
   "metadata": {},
   "outputs": [],
   "source": [
    "#model evaluation\n",
    "metrics=pd.DataFrame(model.history.history)"
   ]
  },
  {
   "cell_type": "code",
   "execution_count": 32,
   "metadata": {},
   "outputs": [
    {
     "data": {
      "text/html": [
       "<div>\n",
       "<style scoped>\n",
       "    .dataframe tbody tr th:only-of-type {\n",
       "        vertical-align: middle;\n",
       "    }\n",
       "\n",
       "    .dataframe tbody tr th {\n",
       "        vertical-align: top;\n",
       "    }\n",
       "\n",
       "    .dataframe thead th {\n",
       "        text-align: right;\n",
       "    }\n",
       "</style>\n",
       "<table border=\"1\" class=\"dataframe\">\n",
       "  <thead>\n",
       "    <tr style=\"text-align: right;\">\n",
       "      <th></th>\n",
       "      <th>loss</th>\n",
       "      <th>acc</th>\n",
       "      <th>val_loss</th>\n",
       "      <th>val_acc</th>\n",
       "    </tr>\n",
       "  </thead>\n",
       "  <tbody>\n",
       "    <tr>\n",
       "      <th>0</th>\n",
       "      <td>1.495671</td>\n",
       "      <td>0.45964</td>\n",
       "      <td>1.305894</td>\n",
       "      <td>0.5334</td>\n",
       "    </tr>\n",
       "    <tr>\n",
       "      <th>1</th>\n",
       "      <td>1.173902</td>\n",
       "      <td>0.58388</td>\n",
       "      <td>1.111897</td>\n",
       "      <td>0.6122</td>\n",
       "    </tr>\n",
       "    <tr>\n",
       "      <th>2</th>\n",
       "      <td>1.034841</td>\n",
       "      <td>0.63700</td>\n",
       "      <td>1.033764</td>\n",
       "      <td>0.6337</td>\n",
       "    </tr>\n",
       "    <tr>\n",
       "      <th>3</th>\n",
       "      <td>0.921417</td>\n",
       "      <td>0.67936</td>\n",
       "      <td>1.011279</td>\n",
       "      <td>0.6476</td>\n",
       "    </tr>\n",
       "    <tr>\n",
       "      <th>4</th>\n",
       "      <td>0.829098</td>\n",
       "      <td>0.71158</td>\n",
       "      <td>0.946842</td>\n",
       "      <td>0.6699</td>\n",
       "    </tr>\n",
       "    <tr>\n",
       "      <th>5</th>\n",
       "      <td>0.749393</td>\n",
       "      <td>0.73898</td>\n",
       "      <td>1.008896</td>\n",
       "      <td>0.6607</td>\n",
       "    </tr>\n",
       "    <tr>\n",
       "      <th>6</th>\n",
       "      <td>0.679608</td>\n",
       "      <td>0.76122</td>\n",
       "      <td>0.949625</td>\n",
       "      <td>0.6835</td>\n",
       "    </tr>\n",
       "  </tbody>\n",
       "</table>\n",
       "</div>"
      ],
      "text/plain": [
       "       loss      acc  val_loss  val_acc\n",
       "0  1.495671  0.45964  1.305894   0.5334\n",
       "1  1.173902  0.58388  1.111897   0.6122\n",
       "2  1.034841  0.63700  1.033764   0.6337\n",
       "3  0.921417  0.67936  1.011279   0.6476\n",
       "4  0.829098  0.71158  0.946842   0.6699\n",
       "5  0.749393  0.73898  1.008896   0.6607\n",
       "6  0.679608  0.76122  0.949625   0.6835"
      ]
     },
     "execution_count": 32,
     "metadata": {},
     "output_type": "execute_result"
    }
   ],
   "source": [
    "metrics"
   ]
  },
  {
   "cell_type": "code",
   "execution_count": 37,
   "metadata": {},
   "outputs": [
    {
     "data": {
      "text/plain": [
       "<matplotlib.axes._subplots.AxesSubplot at 0x23e43733d48>"
      ]
     },
     "execution_count": 37,
     "metadata": {},
     "output_type": "execute_result"
    },
    {
     "data": {
      "image/png": "[encoded data removed]",
      "text/plain": [
       "<Figure size 432x288 with 1 Axes>"
      ]
     },
     "metadata": {
      "needs_background": "light"
     },
     "output_type": "display_data"
    }
   ],
   "source": [
    "metrics[['acc','val_acc']].plot()"
   ]
  },
  {
   "cell_type": "code",
   "execution_count": 38,
   "metadata": {},
   "outputs": [
    {
     "data": {
      "text/plain": [
       "<matplotlib.axes._subplots.AxesSubplot at 0x23e437bef08>"
      ]
     },
     "execution_count": 38,
     "metadata": {},
     "output_type": "execute_result"
    },
    {
     "data": {
      "image/png": "[encoded data removed]",
      "text/plain": [
       "<Figure size 432x288 with 1 Axes>"
      ]
     },
     "metadata": {
      "needs_background": "light"
     },
     "output_type": "display_data"
    }
   ],
   "source": [
    "metrics[['loss','val_loss']].plot()"
   ]
  },
  {
   "cell_type": "code",
   "execution_count": 39,
   "metadata": {},
   "outputs": [
    {
     "data": {
      "text/plain": [
       "[0.9496254036903381, 0.6835]"
      ]
     },
     "execution_count": 39,
     "metadata": {},
     "output_type": "execute_result"
    }
   ],
   "source": [
    "model.evaluate(x_test,y_cat_test,verbose=0) #val_accuracy and val_loss values"
   ]
  },
  {
   "cell_type": "code",
   "execution_count": 40,
   "metadata": {},
   "outputs": [],
   "source": [
    "from sklearn.metrics import classification_report,confusion_matrix"
   ]
  },
  {
   "cell_type": "code",
   "execution_count": 41,
   "metadata": {},
   "outputs": [],
   "source": [
    "predictions=model.predict_classes(x_test)"
   ]
  },
  {
   "cell_type": "code",
   "execution_count": 42,
   "metadata": {},
   "outputs": [
    {
     "name": "stdout",
     "output_type": "stream",
     "text": [
      "              precision    recall  f1-score   support\n",
      "\n",
      "           0       0.67      0.79      0.72      1000\n",
      "           1       0.78      0.86      0.82      1000\n",
      "           2       0.63      0.56      0.59      1000\n",
      "           3       0.53      0.45      0.49      1000\n",
      "           4       0.71      0.51      0.59      1000\n",
      "           5       0.53      0.63      0.58      1000\n",
      "           6       0.75      0.79      0.77      1000\n",
      "           7       0.69      0.77      0.73      1000\n",
      "           8       0.75      0.79      0.77      1000\n",
      "           9       0.80      0.69      0.74      1000\n",
      "\n",
      "    accuracy                           0.68     10000\n",
      "   macro avg       0.68      0.68      0.68     10000\n",
      "weighted avg       0.68      0.68      0.68     10000\n",
      "\n"
     ]
    }
   ],
   "source": [
    "print(classification_report(y_test,predictions))"
   ]
  },
  {
   "cell_type": "code",
   "execution_count": 43,
   "metadata": {},
   "outputs": [
    {
     "data": {
      "text/plain": [
       "array([[793,  29,  24,  20,  11,  10,   5,  13,  68,  27],\n",
       "       [ 34, 859,   6,   8,   2,   4,   5,   5,  32,  45],\n",
       "       [ 99,   9, 561,  54,  45,  95,  67,  39,  21,  10],\n",
       "       [ 32,  15,  63, 447,  48, 226,  69,  55,  27,  18],\n",
       "       [ 31,   7,  93,  69, 512,  69,  72, 111,  27,   9],\n",
       "       [ 27,   5,  60, 135,  27, 632,  27,  66,  12,   9],\n",
       "       [ 12,  10,  43,  57,  28,  33, 789,  12,  11,   5],\n",
       "       [ 16,   5,  24,  29,  39,  86,   5, 772,   8,  16],\n",
       "       [ 87,  48,   9,  12,   3,   7,   4,  13, 785,  32],\n",
       "       [ 61, 112,  10,  12,   7,  20,   8,  30,  55, 685]], dtype=int64)"
      ]
     },
     "execution_count": 43,
     "metadata": {},
     "output_type": "execute_result"
    }
   ],
   "source": [
    "confusion_matrix(y_test,predictions)"
   ]
  },
  {
   "cell_type": "code",
   "execution_count": 44,
   "metadata": {},
   "outputs": [],
   "source": [
    "import seaborn as sns"
   ]
  },
  {
   "cell_type": "code",
   "execution_count": 45,
   "metadata": {},
   "outputs": [
    {
     "data": {
      "text/plain": [
       "<Figure size 720x432 with 0 Axes>"
      ]
     },
     "execution_count": 45,
     "metadata": {},
     "output_type": "execute_result"
    },
    {
     "data": {
      "text/plain": [
       "<Figure size 720x432 with 0 Axes>"
      ]
     },
     "metadata": {},
     "output_type": "display_data"
    }
   ],
   "source": [
    "plt.figure(figsize=(10,6))"
   ]
  },
  {
   "cell_type": "code",
   "execution_count": 46,
   "metadata": {},
   "outputs": [
    {
     "data": {
      "text/plain": [
       "<matplotlib.axes._subplots.AxesSubplot at 0x23e43835908>"
      ]
     },
     "execution_count": 46,
     "metadata": {},
     "output_type": "execute_result"
    },
    {
     "data": {
      "image/png": "[encoded data removed]",
      "text/plain": [
       "<Figure size 432x288 with 2 Axes>"
      ]
     },
     "metadata": {
      "needs_background": "light"
     },
     "output_type": "display_data"
    }
   ],
   "source": [
    "sns.heatmap(confusion_matrix(y_test,predictions),annot=True)"
   ]
  },
  {
   "cell_type": "code",
   "execution_count": 47,
   "metadata": {},
   "outputs": [],
   "source": [
    "#predicting new datapoint\n",
    "my_image=x_test[0]"
   ]
  },
  {
   "cell_type": "code",
   "execution_count": 48,
   "metadata": {},
   "outputs": [
    {
     "data": {
      "text/plain": [
       "array([3])"
      ]
     },
     "execution_count": 48,
     "metadata": {},
     "output_type": "execute_result"
    }
   ],
   "source": [
    "y_test[0]"
   ]
  },
  {
   "cell_type": "code",
   "execution_count": 50,
   "metadata": {},
   "outputs": [
    {
     "data": {
      "text/plain": [
       "<matplotlib.image.AxesImage at 0x23e44937288>"
      ]
     },
     "execution_count": 50,
     "metadata": {},
     "output_type": "execute_result"
    },
    {
     "data": {
      "image/png": "[encoded data removed]",
      "text/plain": [
       "<Figure size 432x288 with 1 Axes>"
      ]
     },
     "metadata": {
      "needs_background": "light"
     },
     "output_type": "display_data"
    }
   ],
   "source": [
    "plt.imshow(my_image.reshape(32,32,3))"
   ]
  },
  {
   "cell_type": "code",
   "execution_count": 52,
   "metadata": {},
   "outputs": [
    {
     "data": {
      "text/plain": [
       "array([3], dtype=int64)"
      ]
     },
     "execution_count": 52,
     "metadata": {},
     "output_type": "execute_result"
    }
   ],
   "source": [
    "model.predict_classes(my_image.reshape(1,32,32,3)) #this must be same as y_test[0] which is 3"
   ]
  },
  {
   "cell_type": "code",
   "execution_count": null,
   "metadata": {},
   "outputs": [],
   "source": []
  }
 ],
 "metadata": {
  "kernelspec": {
   "display_name": "Python 3",
   "language": "python",
   "name": "python3"
  },
  "language_info": {
   "codemirror_mode": {
    "name": "ipython",
    "version": 3
   },
   "file_extension": ".py",
   "mimetype": "text/x-python",
   "name": "python",
   "nbconvert_exporter": "python",
   "pygments_lexer": "ipython3",
   "version": "3.7.6"
  }
 },
 "nbformat": 4,
 "nbformat_minor": 4
}
